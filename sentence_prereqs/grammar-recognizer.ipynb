{
 "cells": [
  {
   "cell_type": "code",
   "execution_count": 1,
   "metadata": {},
   "outputs": [],
   "source": [
    "import re"
   ]
  },
  {
   "cell_type": "code",
   "execution_count": null,
   "metadata": {},
   "outputs": [],
   "source": []
  },
  {
   "cell_type": "code",
   "execution_count": 2,
   "metadata": {},
   "outputs": [],
   "source": [
    "sents = \"\"\"それを<b>一つ</b>ください。\n",
    "私は学生だ。\n",
    "ソフトクリームを<b>二つ</b>ください。\n",
    "カレーライスは700<b>円</b>です。\n",
    "これはかなり<b>金</b>がかかった。\n",
    "<b>これ</b>をください。\n",
    "<b>水曜日</b>はバイトがあります。\n",
    "<b>あれ</b>は何ですか。\n",
    "お<b>先</b>にどうぞ。\n",
    "<b>八日</b>からイギリスに行きます。\n",
    "<b>そば</b>にいて下さい。\n",
    "<b>こっち</b>に来て下さい。\n",
    "<b>右</b>のポケットにハンカチが入っています。\n",
    "この本、あなたに<b>あげます</b>。\n",
    "<b>ここ</b>に本があります。\n",
    "この本は<b>とても</b>おもしろい。\n",
    "バナナが<b>七</b>本あります。\n",
    "分かった人は<b>手</b>を上げてください。\n",
    "<b>おなか</b>が空きました。\n",
    "レストランは<b>空いていました</b>。\"\"\"\n",
    "sents = re.sub(\"<b>(.*?)</b>\", r\"\\1\", sents).splitlines()"
   ]
  },
  {
   "cell_type": "code",
   "execution_count": 13,
   "metadata": {},
   "outputs": [
    {
     "name": "stdout",
     "output_type": "stream",
     "text": [
      "['auxilary verb']\n"
     ]
    }
   ],
   "source": [
    "def pos_interpreter(pos):\n",
    "    translations = {\n",
    "        \"名詞\": \"noun\",\n",
    "        \"一般\": \"general\",\n",
    "        \"助詞\": \"particle\",\n",
    "        \"格助詞\": \"case-marking particle\",\n",
    "        \"動詞\": \"verb\",\n",
    "        \"自立\": \"independent\",\n",
    "        \"助動詞\": \"auxilary verb\",\n",
    "        \"記号\": \"symbol\",\n",
    "        \"句点\": \"period\",\n",
    "        \"代名詞\": \"pronoun\",\n",
    "        \"係助詞\": \"binding particle\",\n",
    "        \"数\": \"number\",\n",
    "        \"接尾\": \"suffix\",\n",
    "        \"助数詞\": \"counter\"\n",
    "    }\n",
    "    tags = pos.split(',')\n",
    "    real_tags = []\n",
    "    for tag in tags:\n",
    "        if tag != \"*\":\n",
    "            if tag in translations.keys():\n",
    "                real_tags.append(translations[tag])\n",
    "            else:\n",
    "                print(tag)\n",
    "    return real_tags\n",
    "print(pos_interpreter(\"助動詞,*,*,*\"))"
   ]
  },
  {
   "cell_type": "code",
   "execution_count": 14,
   "metadata": {
    "scrolled": true
   },
   "outputs": [],
   "source": [
    "from kuromojipy.kuromoji_server import KuromojiServer\n",
    "kuro_server = KuromojiServer()\n",
    "def pos_tag(sentence):\n",
    "    tagged_words = []\n",
    "    kuromoji = kuro_server.kuromoji\n",
    "    tokenizer = kuromoji.Tokenizer.builder().build()\n",
    "    tokens = tokenizer.tokenize(sentence)\n",
    "    for elem in [[x.getBaseForm(), pos_interpreter(x.getPartOfSpeech())] for x in tokens]:\n",
    "        tagged_words.append(elem)\n",
    "    return tagged_words\n"
   ]
  },
  {
   "cell_type": "code",
   "execution_count": 15,
   "metadata": {
    "scrolled": false
   },
   "outputs": [
    {
     "data": {
      "text/plain": [
       "[['私', ['noun', 'pronoun', 'general']],\n",
       " ['は', ['particle', 'binding particle']],\n",
       " ['学生', ['noun', 'general']],\n",
       " ['だ', ['auxilary verb']],\n",
       " ['。', ['symbol', 'period']]]"
      ]
     },
     "execution_count": 15,
     "metadata": {},
     "output_type": "execute_result"
    }
   ],
   "source": [
    "pos_tag(sents[1])"
   ]
  },
  {
   "cell_type": "code",
   "execution_count": 16,
   "metadata": {
    "scrolled": true
   },
   "outputs": [
    {
     "data": {
      "text/plain": [
       "'őそれ;1,10,2úőを;3,4,2úő一つ;1,2úőくださる;5,6úő。;8,9ú'"
      ]
     },
     "execution_count": 16,
     "metadata": {},
     "output_type": "execute_result"
    }
   ],
   "source": [
    "def encode_tags(tags):\n",
    "    tag_encodings = {\n",
    "        \"noun\": 1,\n",
    "        \"general\": 2,\n",
    "        \"particle\": 3,\n",
    "        \"case-marking particle\": 4,\n",
    "        \"verb\": 5,\n",
    "        \"independent\": 6,\n",
    "        \"auxilary verb\": 7,\n",
    "        \"symbol\": 8,\n",
    "        \"period\": 9,\n",
    "        \"pronoun\": 10,\n",
    "        \"binding particle\": 11,\n",
    "        \"number\": 12,\n",
    "        \"suffix\": 13,\n",
    "        \"counter\": 14,\n",
    "    }\n",
    "    encoded = \"\"\n",
    "    for tag in tags:\n",
    "        encoded += \"\".join([\n",
    "            \"ő\", \n",
    "            tag[0], \n",
    "            \";\", \n",
    "            \",\".join([str(tag_encodings[x]) for x in tag[1]]),\n",
    "            \"ú\"\n",
    "        ])\n",
    "    return encoded\n",
    "encode_tags(pos_tag(sents[0]))"
   ]
  },
  {
   "cell_type": "code",
   "execution_count": 17,
   "metadata": {},
   "outputs": [
    {
     "name": "stdout",
     "output_type": "stream",
     "text": [
      "[['カレーライス', ['noun', 'general']], ['は', ['particle', 'binding particle']], [None, ['noun', 'number']], ['円', ['noun', 'suffix', 'counter']], ['です', ['auxilary verb']], ['。', ['symbol', 'period']]]\n"
     ]
    }
   ],
   "source": [
    "print(pos_tag(sents[3]))"
   ]
  },
  {
   "cell_type": "code",
   "execution_count": 18,
   "metadata": {},
   "outputs": [
    {
     "ename": "TypeError",
     "evalue": "sequence item 1: expected str instance, NoneType found",
     "output_type": "error",
     "traceback": [
      "\u001b[1;31m---------------------------------------------------------------------------\u001b[0m",
      "\u001b[1;31mTypeError\u001b[0m                                 Traceback (most recent call last)",
      "\u001b[1;32m<ipython-input-18-c2bf4c658801>\u001b[0m in \u001b[0;36m<module>\u001b[1;34m\u001b[0m\n\u001b[0;32m     11\u001b[0m     \u001b[1;32mreturn\u001b[0m \u001b[0mfound\u001b[0m\u001b[1;33m\u001b[0m\u001b[1;33m\u001b[0m\u001b[0m\n\u001b[0;32m     12\u001b[0m \u001b[1;33m\u001b[0m\u001b[0m\n\u001b[1;32m---> 13\u001b[1;33m \u001b[0mprint\u001b[0m\u001b[1;33m(\u001b[0m\u001b[0mrecognize_grammar\u001b[0m\u001b[1;33m(\u001b[0m\u001b[0msents\u001b[0m\u001b[1;33m[\u001b[0m\u001b[1;36m3\u001b[0m\u001b[1;33m]\u001b[0m\u001b[1;33m)\u001b[0m\u001b[1;33m)\u001b[0m\u001b[1;33m\u001b[0m\u001b[1;33m\u001b[0m\u001b[0m\n\u001b[0m\u001b[0;32m     14\u001b[0m \u001b[1;33m\u001b[0m\u001b[0m\n",
      "\u001b[1;32m<ipython-input-18-c2bf4c658801>\u001b[0m in \u001b[0;36mrecognize_grammar\u001b[1;34m(sent)\u001b[0m\n\u001b[0;32m      5\u001b[0m \u001b[1;32mdef\u001b[0m \u001b[0mrecognize_grammar\u001b[0m\u001b[1;33m(\u001b[0m\u001b[0msent\u001b[0m\u001b[1;33m)\u001b[0m\u001b[1;33m:\u001b[0m\u001b[1;33m\u001b[0m\u001b[1;33m\u001b[0m\u001b[0m\n\u001b[0;32m      6\u001b[0m     \u001b[0mtagged\u001b[0m \u001b[1;33m=\u001b[0m \u001b[0mpos_tag\u001b[0m\u001b[1;33m(\u001b[0m\u001b[0msent\u001b[0m\u001b[1;33m)\u001b[0m\u001b[1;33m\u001b[0m\u001b[1;33m\u001b[0m\u001b[0m\n\u001b[1;32m----> 7\u001b[1;33m     \u001b[0mencoded\u001b[0m \u001b[1;33m=\u001b[0m \u001b[0mencode_tags\u001b[0m\u001b[1;33m(\u001b[0m\u001b[0mtagged\u001b[0m\u001b[1;33m)\u001b[0m\u001b[1;33m\u001b[0m\u001b[1;33m\u001b[0m\u001b[0m\n\u001b[0m\u001b[0;32m      8\u001b[0m     \u001b[0mgrammars\u001b[0m \u001b[1;33m=\u001b[0m \u001b[1;33m[\u001b[0m\u001b[0mrecognize_da\u001b[0m\u001b[1;33m]\u001b[0m\u001b[1;33m\u001b[0m\u001b[1;33m\u001b[0m\u001b[0m\n\u001b[0;32m      9\u001b[0m     \u001b[0mfound\u001b[0m \u001b[1;33m=\u001b[0m \u001b[1;33m[\u001b[0m\u001b[0mx\u001b[0m\u001b[1;33m(\u001b[0m\u001b[0mencoded\u001b[0m\u001b[1;33m)\u001b[0m \u001b[1;32mfor\u001b[0m \u001b[0mx\u001b[0m \u001b[1;32min\u001b[0m \u001b[0mgrammars\u001b[0m\u001b[1;33m]\u001b[0m\u001b[1;33m\u001b[0m\u001b[1;33m\u001b[0m\u001b[0m\n",
      "\u001b[1;32m<ipython-input-16-ec8075d20bbe>\u001b[0m in \u001b[0;36mencode_tags\u001b[1;34m(tags)\u001b[0m\n\u001b[0;32m     23\u001b[0m             \u001b[1;34m\";\"\u001b[0m\u001b[1;33m,\u001b[0m\u001b[1;33m\u001b[0m\u001b[1;33m\u001b[0m\u001b[0m\n\u001b[0;32m     24\u001b[0m             \u001b[1;34m\",\"\u001b[0m\u001b[1;33m.\u001b[0m\u001b[0mjoin\u001b[0m\u001b[1;33m(\u001b[0m\u001b[1;33m[\u001b[0m\u001b[0mstr\u001b[0m\u001b[1;33m(\u001b[0m\u001b[0mtag_encodings\u001b[0m\u001b[1;33m[\u001b[0m\u001b[0mx\u001b[0m\u001b[1;33m]\u001b[0m\u001b[1;33m)\u001b[0m \u001b[1;32mfor\u001b[0m \u001b[0mx\u001b[0m \u001b[1;32min\u001b[0m \u001b[0mtag\u001b[0m\u001b[1;33m[\u001b[0m\u001b[1;36m1\u001b[0m\u001b[1;33m]\u001b[0m\u001b[1;33m]\u001b[0m\u001b[1;33m)\u001b[0m\u001b[1;33m,\u001b[0m\u001b[1;33m\u001b[0m\u001b[1;33m\u001b[0m\u001b[0m\n\u001b[1;32m---> 25\u001b[1;33m             \u001b[1;34m\"ú\"\u001b[0m\u001b[1;33m\u001b[0m\u001b[1;33m\u001b[0m\u001b[0m\n\u001b[0m\u001b[0;32m     26\u001b[0m         ])\n\u001b[0;32m     27\u001b[0m     \u001b[1;32mreturn\u001b[0m \u001b[0mencoded\u001b[0m\u001b[1;33m\u001b[0m\u001b[1;33m\u001b[0m\u001b[0m\n",
      "\u001b[1;31mTypeError\u001b[0m: sequence item 1: expected str instance, NoneType found"
     ]
    }
   ],
   "source": [
    "def recognize_da(encoded):\n",
    "    if re.search(\"ő.+?;1.*?úőだ;7ú\", encoded) is not None:\n",
    "        return \"Declaring using だ\"\n",
    "\n",
    "def recognize_grammar(sent):\n",
    "    tagged = pos_tag(sent)\n",
    "    encoded = encode_tags(tagged)\n",
    "    grammars = [recognize_da]\n",
    "    found = [x(encoded) for x in grammars]\n",
    "    found = [x for x in found if x is not None]\n",
    "    return found\n",
    "\n",
    "print(recognize_grammar(sents[3]))\n",
    "    "
   ]
  },
  {
   "cell_type": "code",
   "execution_count": null,
   "metadata": {},
   "outputs": [],
   "source": []
  },
  {
   "cell_type": "code",
   "execution_count": null,
   "metadata": {},
   "outputs": [],
   "source": []
  }
 ],
 "metadata": {
  "kernelspec": {
   "display_name": "Python 3",
   "language": "python",
   "name": "python3"
  },
  "language_info": {
   "codemirror_mode": {
    "name": "ipython",
    "version": 3
   },
   "file_extension": ".py",
   "mimetype": "text/x-python",
   "name": "python",
   "nbconvert_exporter": "python",
   "pygments_lexer": "ipython3",
   "version": "3.7.2"
  }
 },
 "nbformat": 4,
 "nbformat_minor": 2
}
