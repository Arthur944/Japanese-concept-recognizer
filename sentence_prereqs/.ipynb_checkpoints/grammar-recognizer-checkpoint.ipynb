{
 "cells": [
  {
   "cell_type": "code",
   "execution_count": 2,
   "metadata": {},
   "outputs": [],
   "source": [
    "import re"
   ]
  },
  {
   "cell_type": "code",
   "execution_count": null,
   "metadata": {},
   "outputs": [],
   "source": [
    "from kuromojipy.kuromoji_server import KuromojiServer\n",
    "kuro_server = KuromojiServer()"
   ]
  },
  {
   "cell_type": "code",
   "execution_count": 108,
   "metadata": {},
   "outputs": [],
   "source": [
    "negative_sents = \"\"\"\n",
    "学生じゃない。\n",
    "友達じゃない。\n",
    "元気じゃない。\n",
    "\"\"\".splitlines()[1:]\n",
    "past_sents = \"\"\"\n",
    "友達だった。\n",
    "友達じゃなかった。\n",
    "元気じゃなかった。\n",
    "\"\"\".splitlines()[1:]\n",
    "ha_sents = \"\"\"\n",
    "アリスは学生？\n",
    "ジョンは明日？\n",
    "今日は試験だ。\n",
    "\"\"\".splitlines()[1:]\n",
    "mo_sents=\"\"\"\n",
    "昨日も雨だった\n",
    "これもそう。\n",
    "出口もここだ。\n",
    "\"\"\".splitlines()[1:]\n",
    "sents = \"\"\"それを<b>一つ</b>ください。\n",
    "私は学生だ。\n",
    "ソフトクリームを<b>二つ</b>ください。\n",
    "カレーライスは700<b>円</b>です。\n",
    "これはかなり<b>金</b>がかかった。\n",
    "<b>これ</b>をください。\n",
    "<b>水曜日</b>はバイトがあります。\n",
    "<b>あれ</b>は何ですか。\n",
    "お<b>先</b>にどうぞ。\n",
    "<b>八日</b>からイギリスに行きます。\n",
    "<b>そば</b>にいて下さい。\n",
    "<b>こっち</b>に来て下さい。\n",
    "<b>右</b>のポケットにハンカチが入っています。\n",
    "この本、あなたに<b>あげます</b>。\n",
    "<b>ここ</b>に本があります。\n",
    "この本は<b>とても</b>おもしろい。\n",
    "バナナが<b>七</b>本あります。\n",
    "分かった人は<b>手</b>を上げてください。\n",
    "<b>おなか</b>が空きました。\n",
    "レストランは<b>空いていました</b>。\"\"\"\n",
    "sents = re.sub(\"<b>(.*?)</b>\", r\"\\1\", sents).splitlines()"
   ]
  },
  {
   "cell_type": "code",
   "execution_count": 100,
   "metadata": {},
   "outputs": [
    {
     "name": "stdout",
     "output_type": "stream",
     "text": [
      "['auxilary verb']\n"
     ]
    }
   ],
   "source": [
    "def pos_interpreter(pos):\n",
    "    translations = {\n",
    "        \"名詞\": \"noun\",\n",
    "        \"一般\": \"general\",\n",
    "        \"助詞\": \"particle\",\n",
    "        \"格助詞\": \"case-marking particle\",\n",
    "        \"動詞\": \"verb\",\n",
    "        \"自立\": \"independent\",\n",
    "        \"助動詞\": \"auxilary verb\",\n",
    "        \"記号\": \"symbol\",\n",
    "        \"句点\": \"period\",\n",
    "        \"代名詞\": \"pronoun\",\n",
    "        \"係助詞\": \"binding particle\",\n",
    "        \"数\": \"number\",\n",
    "        \"接尾\": \"suffix\",\n",
    "        \"助数詞\": \"counter\",\n",
    "        \"副助詞\": \"adverbial particle\",\n",
    "        \"形容動詞語幹\": \"adjectival noun stem\",\n",
    "        \"固有名詞\": \"proper noun\",\n",
    "        \"人名\": \"persons name\",\n",
    "        \"名\": \"name\",\n",
    "        \"サ変接続\": \"connecting irregular conjugation\",\n",
    "        \"副詞可能\": \"adverb maybe\",\n",
    "        \"副詞\": \"adverb\"\n",
    "        \n",
    "    }\n",
    "    tags = pos.split(',')\n",
    "    real_tags = []\n",
    "    for tag in tags:\n",
    "        if tag != \"*\":\n",
    "            if tag in translations.keys():\n",
    "                real_tags.append(translations[tag])\n",
    "            else:\n",
    "                print(tag)\n",
    "    return real_tags\n",
    "print(pos_interpreter(\"助動詞,*,*,*\"))"
   ]
  },
  {
   "cell_type": "code",
   "execution_count": 38,
   "metadata": {
    "scrolled": true
   },
   "outputs": [],
   "source": [
    "def pos_tag(sentence):\n",
    "    tagged_words = []\n",
    "    kuromoji = kuro_server.kuromoji\n",
    "    tokenizer = kuromoji.Tokenizer.builder().build()\n",
    "    tokens = tokenizer.tokenize(sentence)\n",
    "    for elem in [[x.getBaseForm() if x.getBaseForm() is not None else x.getSurfaceForm(), pos_interpreter(x.getPartOfSpeech()), x.getSurfaceForm()] for x in tokens]:\n",
    "        tagged_words.append(elem)\n",
    "    return tagged_words\n"
   ]
  },
  {
   "cell_type": "code",
   "execution_count": 15,
   "metadata": {
    "scrolled": false
   },
   "outputs": [
    {
     "data": {
      "text/plain": [
       "[['私', ['noun', 'pronoun', 'general']],\n",
       " ['は', ['particle', 'binding particle']],\n",
       " ['学生', ['noun', 'general']],\n",
       " ['だ', ['auxilary verb']],\n",
       " ['。', ['symbol', 'period']]]"
      ]
     },
     "execution_count": 15,
     "metadata": {},
     "output_type": "execute_result"
    }
   ],
   "source": [
    "pos_tag(sents[1])"
   ]
  },
  {
   "cell_type": "code",
   "execution_count": 99,
   "metadata": {
    "scrolled": true
   },
   "outputs": [
    {
     "data": {
      "text/plain": [
       "'őカレーライス;1,2;カレーライスúőは;3,11;はúő700;1,12;700úő円;1,13,14;円úőです;7;ですúő。;8,9;。ú'"
      ]
     },
     "execution_count": 99,
     "metadata": {},
     "output_type": "execute_result"
    }
   ],
   "source": [
    "def encode_tags(tags):\n",
    "    tag_encodings = {\n",
    "        \"noun\": 1,\n",
    "        \"general\": 2,\n",
    "        \"particle\": 3,\n",
    "        \"case-marking particle\": 4,\n",
    "        \"verb\": 5,\n",
    "        \"independent\": 6,\n",
    "        \"auxilary verb\": 7,\n",
    "        \"symbol\": 8,\n",
    "        \"period\": 9,\n",
    "        \"pronoun\": 10,\n",
    "        \"binding particle\": 11,\n",
    "        \"number\": 12,\n",
    "        \"suffix\": 13,\n",
    "        \"counter\": 14,\n",
    "        \"adverbial particle\": 15,\n",
    "        \"adjectival noun stem\": 16,\n",
    "        \"proper noun\": 17,\n",
    "        \"persons name\": 18,\n",
    "        \"name\": 19,\n",
    "        \"connecting irregular conjugation\": 20,\n",
    "        \"adverb maybe\": 21,\n",
    "        \"adverb\": 22,\n",
    "    }\n",
    "    encoded = \"\"\n",
    "    for tag in tags:\n",
    "        encoded += \"\".join([\n",
    "            \"ő\", \n",
    "            tag[0], \n",
    "            \";\", \n",
    "            \",\".join([str(tag_encodings[x]) for x in tag[1]]),\n",
    "            \";\",\n",
    "            tag[2],\n",
    "            \"ú\"\n",
    "        ])\n",
    "    return encoded\n",
    "encode_tags(pos_tag(sents[3]))"
   ]
  },
  {
   "cell_type": "code",
   "execution_count": 104,
   "metadata": {},
   "outputs": [
    {
     "data": {
      "text/plain": [
       "[['昨日', ['noun', 'adverb maybe'], '昨日'],\n",
       " ['も', ['particle', 'binding particle'], 'も'],\n",
       " ['雨', ['noun', 'general'], '雨'],\n",
       " ['だ', ['auxilary verb'], 'だっ'],\n",
       " ['た', ['auxilary verb'], 'た']]"
      ]
     },
     "execution_count": 104,
     "metadata": {},
     "output_type": "execute_result"
    }
   ],
   "source": [
    "pos_tag(mo_sents[0])"
   ]
  },
  {
   "cell_type": "code",
   "execution_count": 105,
   "metadata": {},
   "outputs": [],
   "source": [
    "def create_word_pattern(surface_form=None, base_form=None, tags=None):\n",
    "    if surface_form is None:\n",
    "        surface_form = \"[^ú]+?\"\n",
    "    if base_form is None:\n",
    "        base_form = \"[^;]+?\"\n",
    "    if tags is None:\n",
    "        tags = \"[0-9,]*\"\n",
    "    else:\n",
    "        req_tags = list(tags)\n",
    "        tags = \"\"\n",
    "        for tag in req_tags:\n",
    "            tags += \"([0-9]+,)*?\" + str(tag) + \",?\"\n",
    "    return \"ő\" + base_form + \";\" + tags + \"[0-9,]*\" + \";\" + surface_form + \"ú\"\n",
    "        \n",
    "        \n",
    "def recognize_da(encoded):\n",
    "    pattern = \\\n",
    "            create_word_pattern(tags=[1]) + \\\n",
    "            create_word_pattern(base_form=\"だ\", surface_form=\"だ\", tags=[7])\n",
    "    if re.search(pattern, encoded) is not None:\n",
    "        return \"Declaring using だ\"\n",
    "\n",
    "def recognize_negative_state_of_being(encoded):\n",
    "    pattern = \\\n",
    "            create_word_pattern(tags=[1]) + \\\n",
    "            create_word_pattern(base_form=\"じゃ\", surface_form=\"じゃ\", tags=[3,15]) + \\\n",
    "            create_word_pattern(base_form=\"ない\", surface_form=\"ない\", tags=[7])\n",
    "    if re.search(pattern, encoded) is not None:\n",
    "        return \"Negative state of being\"\n",
    "\n",
    "def recognize_past_negative(encoded):\n",
    "    pattern = \\\n",
    "            create_word_pattern(tags=[1]) + \\\n",
    "            create_word_pattern(base_form=\"じゃ\", surface_form=\"じゃ\", tags=[3,15]) + \\\n",
    "            create_word_pattern(base_form=\"ない\", surface_form=\"なかっ\", tags=[7]) + \\\n",
    "            create_word_pattern(base_form=\"た\", surface_form=\"た\", tags=[7])\n",
    "    if re.search(pattern, encoded) is not None:\n",
    "        return \"Past state of being\"\n",
    "\n",
    "def recognize_past_state_of_being(encoded):\n",
    "    pattern = \\\n",
    "            create_word_pattern(tags=[1]) + \\\n",
    "            create_word_pattern(base_form=\"だ\", surface_form=\"だっ\", tags=[7]) + \\\n",
    "            create_word_pattern(base_form=\"た\", surface_form=\"た\", tags=[7])\n",
    "    if re.search(pattern, encoded) is not None:\n",
    "        return \"Past state of being\"\n",
    "    \n",
    "def recognize_topic_particle(encoded):\n",
    "    pattern = \\\n",
    "            create_word_pattern(base_form=\"は\", surface_form=\"は\", tags=[3,11])\n",
    "    if re.search(pattern, encoded) is not None:\n",
    "        return \"The は topic particle\"\n",
    "    \n",
    "def recognize_inclusive_particle(encoded):\n",
    "    pattern = \\\n",
    "            create_word_pattern(base_form=\"も\", surface_form=\"も\", tags=[3,11])\n",
    "    if re.search(pattern, encoded) is not None:\n",
    "        return \"The も inclusive topic particle\"\n",
    "\n",
    "def recognize_grammar(sent):\n",
    "    tagged = pos_tag(sent)\n",
    "    encoded = encode_tags(tagged)\n",
    "    grammars = [\n",
    "        recognize_da, \n",
    "        recognize_negative_state_of_being, \n",
    "        recognize_past_state_of_being, \n",
    "        recognize_past_negative,\n",
    "        recognize_topic_particle,\n",
    "        recognize_inclusive_particle,\n",
    "    ]\n",
    "    found = [x(encoded) for x in grammars]\n",
    "    found = [x for x in found if x is not None]\n",
    "    return found"
   ]
  },
  {
   "cell_type": "code",
   "execution_count": 92,
   "metadata": {},
   "outputs": [
    {
     "data": {
      "text/plain": [
       "[['アリス', ['noun', 'proper noun', 'persons name', 'name'], 'アリス'],\n",
       " ['は', ['particle', 'binding particle'], 'は'],\n",
       " ['学生', ['noun', 'general'], '学生'],\n",
       " ['？', ['symbol', 'general'], '？']]"
      ]
     },
     "execution_count": 92,
     "metadata": {},
     "output_type": "execute_result"
    }
   ],
   "source": [
    "pos_tag(ha_sents[0])"
   ]
  },
  {
   "cell_type": "code",
   "execution_count": 74,
   "metadata": {},
   "outputs": [
    {
     "data": {
      "text/plain": [
       "[['友達', ['noun', 'general'], '友達'],\n",
       " ['だ', ['auxilary verb'], 'だっ'],\n",
       " ['た', ['auxilary verb'], 'た'],\n",
       " ['。', ['symbol', 'period'], '。']]"
      ]
     },
     "execution_count": 74,
     "metadata": {},
     "output_type": "execute_result"
    }
   ],
   "source": [
    "pos_tag(past_sents[0])"
   ]
  },
  {
   "cell_type": "code",
   "execution_count": 101,
   "metadata": {
    "scrolled": true
   },
   "outputs": [
    {
     "data": {
      "text/plain": [
       "[['ジョン', ['noun', 'proper noun', 'persons name', 'name'], 'ジョン'],\n",
       " ['は', ['particle', 'binding particle'], 'は'],\n",
       " ['明日', ['noun', 'adverb maybe'], '明日'],\n",
       " ['？', ['symbol', 'general'], '？']]"
      ]
     },
     "execution_count": 101,
     "metadata": {},
     "output_type": "execute_result"
    }
   ],
   "source": [
    "pos_tag(ha_sents[1])"
   ]
  },
  {
   "cell_type": "code",
   "execution_count": 111,
   "metadata": {},
   "outputs": [
    {
     "name": "stdout",
     "output_type": "stream",
     "text": [
      "これもそう。\n",
      "副詞\n",
      "助詞類接続\n",
      "['The も inclusive topic particle']\n"
     ]
    }
   ],
   "source": [
    "print(mo_sents[1])\n",
    "print(recognize_grammar(mo_sents[1]))"
   ]
  },
  {
   "cell_type": "code",
   "execution_count": null,
   "metadata": {},
   "outputs": [],
   "source": []
  }
 ],
 "metadata": {
  "kernelspec": {
   "display_name": "Python 3",
   "language": "python",
   "name": "python3"
  },
  "language_info": {
   "codemirror_mode": {
    "name": "ipython",
    "version": 3
   },
   "file_extension": ".py",
   "mimetype": "text/x-python",
   "name": "python",
   "nbconvert_exporter": "python",
   "pygments_lexer": "ipython3",
   "version": "3.7.2"
  }
 },
 "nbformat": 4,
 "nbformat_minor": 2
}
